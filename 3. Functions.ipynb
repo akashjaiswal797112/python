{
 "cells": [
  {
   "cell_type": "code",
   "execution_count": 1,
   "id": "a2683c09",
   "metadata": {},
   "outputs": [],
   "source": [
    "# 1. Write a program to create a function that takes two arguments, name and age, and print their value\n"
   ]
  },
  {
   "cell_type": "code",
   "execution_count": 2,
   "id": "d326b896",
   "metadata": {},
   "outputs": [],
   "source": [
    "# 2. Write a program to create a function show_employee() using the following conditions: \n",
    "# It should accept the employee’s name and salary and display both. \n",
    "# If the salary is missing in the function call then assign default value 9000 to salary.\n"
   ]
  },
  {
   "cell_type": "code",
   "execution_count": null,
   "id": "770853e9",
   "metadata": {},
   "outputs": [],
   "source": [
    "# 3. Assign a different name to function and call it through the new name\n"
   ]
  },
  {
   "cell_type": "code",
   "execution_count": null,
   "id": "1a4e45df",
   "metadata": {},
   "outputs": [],
   "source": [
    "# 4. Write a function to find the factorial of a number.\n"
   ]
  },
  {
   "cell_type": "code",
   "execution_count": null,
   "id": "8a40480c",
   "metadata": {},
   "outputs": [],
   "source": [
    "# 5. Write a function to calculate area and perimeter of a rectangle\n"
   ]
  },
  {
   "cell_type": "code",
   "execution_count": null,
   "id": "1ffb7a07",
   "metadata": {},
   "outputs": [],
   "source": [
    "# 6. Implement a function for finding and returning a LCM of two input parameters.\n"
   ]
  },
  {
   "cell_type": "code",
   "execution_count": null,
   "id": "3aad0c97",
   "metadata": {},
   "outputs": [],
   "source": [
    "# 7. Implement a function for finding and returning a HCF of two input parameters.\n"
   ]
  }
 ],
 "metadata": {
  "kernelspec": {
   "display_name": "Python 3 (ipykernel)",
   "language": "python",
   "name": "python3"
  },
  "language_info": {
   "codemirror_mode": {
    "name": "ipython",
    "version": 3
   },
   "file_extension": ".py",
   "mimetype": "text/x-python",
   "name": "python",
   "nbconvert_exporter": "python",
   "pygments_lexer": "ipython3",
   "version": "3.9.13"
  }
 },
 "nbformat": 4,
 "nbformat_minor": 5
}
